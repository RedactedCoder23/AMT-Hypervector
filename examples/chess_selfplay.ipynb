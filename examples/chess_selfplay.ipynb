{
 "cells": [
  {"cell_type": "markdown", "metadata": {}, "source": ["# Chess Self-Play"]}
 ],
 "metadata": {"kernelspec": {"display_name": "Python 3", "language": "python", "name": "python3"}},
 "nbformat": 4, "nbformat_minor": 5
}
